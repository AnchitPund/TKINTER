{
 "cells": [
  {
   "cell_type": "code",
   "execution_count": 15,
   "id": "5afb21b4",
   "metadata": {},
   "outputs": [],
   "source": [
    "import tkinter as tk\n",
    "from tkinter import *\n",
    "from pytube import YouTube\n",
    "from tkinter import filedialog,messagebox\n",
    "\n",
    "\n",
    "def createwidget():\n",
    "    link_label=Label(root,text=\"youtube url\",bg=\"#E8D579\")\n",
    "    link_label.grid(row=1,column=0,pady=5,padx=5)\n",
    "    \n",
    "    root.link_text=Entry(root,width =90,textvariable=video_link)\n",
    "    root.link_text.grid(row=1,column=1,pady=5,padx=5 )\n",
    "    \n",
    "    destination_label=Label(root,text=\"destination\",bg=\"#E8D579\")\n",
    "    destination_label.grid(row=2,column=0,pady=5,padx=5)\n",
    "    \n",
    "    root.destination_text=Entry(root,width =60,textvariable=download_path)\n",
    "    root.destination_text.grid(row=2,column=1,pady=3,padx=3)\n",
    "    \n",
    "    brows_button=Button(root,text=\"browse\",command=browse,width=10,bg=\"#000fff000\")\n",
    "    brows_button.grid(row=2,column=2,pady=1,padx=1)\n",
    "    \n",
    "    download_button=Button(root,text=\"download video\",command=download_vid,width=20,bg=\"#00ffff\")\n",
    "    download_button.grid(row=3,column=1,pady=15,padx=15)\n",
    "\n",
    "\n",
    "def browse():\n",
    "    download_dir=filedialog.askdirectory(initialdir=\"\")\n",
    "    download_path.set(download_dir)\n",
    "    \n",
    "def download_vid():\n",
    "    url=video_link.get()\n",
    "    folder=download_path.get()\n",
    "    \n",
    "    get_video=YouTube(url)\n",
    "    get_stream=get_video.streams.first()\n",
    "    print(get_stream)\n",
    "    get_stream.download(folder)\n",
    "    \n",
    "    messagebox.showinfo(\"success!!!!!\",\"download successful! you will find your video at\\n\"+folder)\n",
    "    \n",
    "root=tk.Tk()\n",
    "\n",
    "\n",
    "\n",
    "root.geometry(\"900x320\")\n",
    "root.resizable(False,False)\n",
    "root.title(\"pytube\")\n",
    "root.config(background=\"yellow\")\n",
    "\n",
    "video_link= StringVar()\n",
    "download_path=StringVar()\n",
    "\n",
    "createwidget()\n",
    "\n",
    "root.mainloop()"
   ]
  },
  {
   "cell_type": "code",
   "execution_count": null,
   "id": "6e07afeb",
   "metadata": {},
   "outputs": [],
   "source": [
    " "
   ]
  },
  {
   "cell_type": "code",
   "execution_count": null,
   "id": "7cad082d",
   "metadata": {},
   "outputs": [],
   "source": []
  }
 ],
 "metadata": {
  "kernelspec": {
   "display_name": "Python 3",
   "language": "python",
   "name": "python3"
  },
  "language_info": {
   "codemirror_mode": {
    "name": "ipython",
    "version": 3
   },
   "file_extension": ".py",
   "mimetype": "text/x-python",
   "name": "python",
   "nbconvert_exporter": "python",
   "pygments_lexer": "ipython3",
   "version": "3.8.8"
  }
 },
 "nbformat": 4,
 "nbformat_minor": 5
}
